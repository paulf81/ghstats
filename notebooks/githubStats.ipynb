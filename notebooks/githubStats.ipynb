{
 "cells": [
  {
   "cell_type": "markdown",
   "metadata": {},
   "source": [
    "# GitHub Stats for FLORIS\n",
    "This notebook is used to connect to the GitHub stats database for the FLORIS repo to extract and visualize data\n",
    "\n"
   ]
  },
  {
   "cell_type": "code",
   "execution_count": 1,
   "metadata": {},
   "outputs": [],
   "source": [
    "# add path above this notebook\n",
    "import sys\n",
    "sys.path.append(\"..\") \n",
    "import datetime\n",
    "import matplotlib.pyplot as plt\n",
    "import seaborn as sns\n",
    "import pandas as pd\n",
    "import dateutil"
   ]
  },
  {
   "cell_type": "code",
   "execution_count": 2,
   "metadata": {},
   "outputs": [],
   "source": [
    "# import database\n",
    "import database as dbc"
   ]
  },
  {
   "cell_type": "code",
   "execution_count": 3,
   "metadata": {},
   "outputs": [],
   "source": [
    "# connect to the database\n",
    "\n",
    "db = dbc.Database()"
   ]
  },
  {
   "cell_type": "code",
   "execution_count": 4,
   "metadata": {},
   "outputs": [],
   "source": [
    "# retrieve data in the following range\n",
    "# timestamps in format YYYY-MM-DD\n",
    "from_date = '2018-01-01'\n",
    "to_date = datetime.datetime.today().strftime('%Y-%m-%d') # set to today\n"
   ]
  },
  {
   "cell_type": "code",
   "execution_count": 5,
   "metadata": {},
   "outputs": [
    {
     "name": "stdout",
     "output_type": "stream",
     "text": [
      "FROM DATE: 2018-01-01\n",
      "TO DATE: 2019-01-17\n"
     ]
    }
   ],
   "source": [
    "print(\"FROM DATE: \" + from_date)\n",
    "print(\"TO DATE: \" + to_date)"
   ]
  },
  {
   "cell_type": "code",
   "execution_count": 6,
   "metadata": {},
   "outputs": [],
   "source": [
    "results = db.getResults(from_date, to_date)"
   ]
  },
  {
   "cell_type": "code",
   "execution_count": 7,
   "metadata": {},
   "outputs": [],
   "source": [
    "df = pd.DataFrame(results)"
   ]
  },
  {
   "cell_type": "markdown",
   "metadata": {},
   "source": [
    "## Clones Graph"
   ]
  },
  {
   "cell_type": "code",
   "execution_count": 8,
   "metadata": {},
   "outputs": [
    {
     "data": {
      "text/plain": [
       "Text(0,0.5,'Number of Clones')"
      ]
     },
     "execution_count": 8,
     "metadata": {},
     "output_type": "execute_result"
    },
    {
     "data": {
      "image/png": "[encoded data removed]",
      "text/plain": [
       "<matplotlib.figure.Figure at 0x10bd85550>"
      ]
     },
     "metadata": {},
     "output_type": "display_data"
    }
   ],
   "source": [
    "# set up figure\n",
    "fig, ax = plt.subplots(figsize=(16,6))\n",
    "sns.set(style=\"whitegrid\")\n",
    "#data = sns.load_dataset(df)\n",
    "ax = sns.barplot(ax=ax, x=\"timestamp\", y=\"clones_uniques\", data=df, color=\"blue\", saturation=.5)\n",
    "ax.set_xlabel('Date')\n",
    "ax.set_ylabel('Number of Clones')\n",
    "\n",
    "# Save the figure\n",
    "#fig.savefig(\"WHATEVER PATH YOU WANT\")\n"
   ]
  },
  {
   "cell_type": "code",
   "execution_count": 9,
   "metadata": {},
   "outputs": [
    {
     "name": "stdout",
     "output_type": "stream",
     "text": [
      "DatetimeIndex(['2019-01-03', '2019-01-04', '2019-01-05', '2019-01-07',\n",
      "               '2019-01-08', '2019-01-09', '2019-01-10', '2019-01-11',\n",
      "               '2019-01-12', '2019-01-13', '2019-01-14', '2019-01-15',\n",
      "               '2019-01-16', '2019-01-17'],\n",
      "              dtype='datetime64[ns]', name='timestamp', freq=None)\n",
      "   timestamp  clones_total  clones_uniques  views_total  views_uniques\n",
      "0 2019-01-06           1.0             1.0           21              4\n",
      "1 2019-01-13          13.0            11.0          113             34\n",
      "2 2019-01-20          26.0            13.0          207             32\n"
     ]
    },
    {
     "data": {
      "text/plain": [
       "Text(0,0.5,'Number of Unique Clones')"
      ]
     },
     "execution_count": 9,
     "metadata": {},
     "output_type": "execute_result"
    },
    {
     "data": {
      "image/png": "[encoded data removed]",
      "text/plain": [
       "<matplotlib.figure.Figure at 0x10c09fbe0>"
      ]
     },
     "metadata": {},
     "output_type": "display_data"
    }
   ],
   "source": [
    "# better would be to show totals by month\n",
    "# pandas can aggregate by month?\n",
    "df2 = df\n",
    "df2['timestamp'] = pd.to_datetime(df2['timestamp'])\n",
    "df2['timestamp'] = df2[\"timestamp\"].apply( lambda df : datetime.datetime(year=df.year, month=df.month, day=df.day))\n",
    "df2.set_index(df2['timestamp'],inplace=True)\n",
    "print(df2.index)\n",
    "#clones_cnt = df2['clones_total'].resample('M').sum()\n",
    "df2 = df2.groupby(pd.Grouper(freq='W')).sum().reset_index()\n",
    "print(df2)\n",
    "\n",
    "fig2, ax2 = plt.subplots(figsize=(16,6))\n",
    "sns.set(style=\"whitegrid\")\n",
    "ax2 = sns.barplot(ax=ax2, x=\"timestamp\", y=\"clones_uniques\", data=df2, color=\"blue\", saturation=.5)\n",
    "ax2.set_xlabel('Date')\n",
    "ax2.set_ylabel('Number of Unique Clones')"
   ]
  },
  {
   "cell_type": "markdown",
   "metadata": {},
   "source": [
    "## TOTAL COUNTS"
   ]
  },
  {
   "cell_type": "code",
   "execution_count": 10,
   "metadata": {},
   "outputs": [
    {
     "name": "stdout",
     "output_type": "stream",
     "text": [
      "GETTING TOTAL UNIQUE VIEWS AND CLONES\n",
      "   total_unique_clones  total_unique_views  from_date    to_date\n",
      "0                   25                  70 2019-01-03 2019-01-17\n"
     ]
    }
   ],
   "source": [
    "# Get total counts for all time recorded\n",
    "totals = db.getTotals()\n",
    "print(totals)"
   ]
  }
 ],
 "metadata": {
  "kernelspec": {
   "display_name": "Python 3",
   "language": "python",
   "name": "python3"
  },
  "language_info": {
   "codemirror_mode": {
    "name": "ipython",
    "version": 3
   },
   "file_extension": ".py",
   "mimetype": "text/x-python",
   "name": "python",
   "nbconvert_exporter": "python",
   "pygments_lexer": "ipython3",
   "version": "3.6.5"
  }
 },
 "nbformat": 4,
 "nbformat_minor": 2
}
