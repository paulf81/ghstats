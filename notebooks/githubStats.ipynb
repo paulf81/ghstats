{
 "cells": [
  {
   "cell_type": "markdown",
   "metadata": {},
   "source": [
    "# GitHub Stats for FLORIS\n",
    "This notebook is used to connect to the GitHub stats database for the FLORIS repo to extract and visualize data\n",
    "\n"
   ]
  },
  {
   "cell_type": "code",
   "execution_count": 1,
   "metadata": {},
   "outputs": [],
   "source": [
    "# add path above this notebook\n",
    "import sys\n",
    "sys.path.append(\"..\") \n",
    "import datetime\n",
    "import matplotlib.pyplot as plt\n",
    "import seaborn as sns\n",
    "import pandas as pd\n",
    "import dateutil"
   ]
  },
  {
   "cell_type": "code",
   "execution_count": 2,
   "metadata": {},
   "outputs": [
    {
     "name": "stderr",
     "output_type": "stream",
     "text": [
      "/Users/pfleming/Projects/ghstats/notebooks/../database.py:42: SyntaxWarning: \"is\" with a literal. Did you mean \"==\"?\n",
      "  if (repo_code is None) or (repo_code is'wisdem_floris'):\n",
      "/Users/pfleming/Projects/ghstats/notebooks/../database.py:44: SyntaxWarning: \"is\" with a literal. Did you mean \"==\"?\n",
      "  elif repo_code is 'nrel_floris':\n",
      "/Users/pfleming/Projects/ghstats/notebooks/../database.py:46: SyntaxWarning: \"is\" with a literal. Did you mean \"==\"?\n",
      "  elif repo_code is 'wfc_tools':\n",
      "/Users/pfleming/Projects/ghstats/notebooks/../database.py:67: SyntaxWarning: \"is\" with a literal. Did you mean \"==\"?\n",
      "  if (repo_code is None) or (repo_code is'wisdem_floris'):\n",
      "/Users/pfleming/Projects/ghstats/notebooks/../database.py:69: SyntaxWarning: \"is\" with a literal. Did you mean \"==\"?\n",
      "  elif repo_code is 'nrel_floris':\n",
      "/Users/pfleming/Projects/ghstats/notebooks/../database.py:71: SyntaxWarning: \"is\" with a literal. Did you mean \"==\"?\n",
      "  elif repo_code is 'wfc_tools':\n",
      "/Users/pfleming/Projects/ghstats/notebooks/../database.py:92: SyntaxWarning: \"is\" with a literal. Did you mean \"==\"?\n",
      "  if (repo_code is None) or (repo_code is'wisdem_floris'):\n",
      "/Users/pfleming/Projects/ghstats/notebooks/../database.py:94: SyntaxWarning: \"is\" with a literal. Did you mean \"==\"?\n",
      "  elif repo_code is 'nrel_floris':\n",
      "/Users/pfleming/Projects/ghstats/notebooks/../database.py:96: SyntaxWarning: \"is\" with a literal. Did you mean \"==\"?\n",
      "  elif repo_code is 'wfc_tools':\n"
     ]
    }
   ],
   "source": [
    "# import database\n",
    "import database as dbc"
   ]
  },
  {
   "cell_type": "code",
   "execution_count": 3,
   "metadata": {},
   "outputs": [
    {
     "name": "stderr",
     "output_type": "stream",
     "text": [
      "/Users/pfleming/Projects/ghstats/notebooks/../database.py:42: SyntaxWarning: \"is\" with a literal. Did you mean \"==\"?\n",
      "  if (repo_code is None) or (repo_code is'wisdem_floris'):\n",
      "/Users/pfleming/Projects/ghstats/notebooks/../database.py:44: SyntaxWarning: \"is\" with a literal. Did you mean \"==\"?\n",
      "  elif repo_code is 'nrel_floris':\n",
      "/Users/pfleming/Projects/ghstats/notebooks/../database.py:46: SyntaxWarning: \"is\" with a literal. Did you mean \"==\"?\n",
      "  elif repo_code is 'wfc_tools':\n",
      "/Users/pfleming/Projects/ghstats/notebooks/../database.py:67: SyntaxWarning: \"is\" with a literal. Did you mean \"==\"?\n",
      "  if (repo_code is None) or (repo_code is'wisdem_floris'):\n",
      "/Users/pfleming/Projects/ghstats/notebooks/../database.py:69: SyntaxWarning: \"is\" with a literal. Did you mean \"==\"?\n",
      "  elif repo_code is 'nrel_floris':\n",
      "/Users/pfleming/Projects/ghstats/notebooks/../database.py:71: SyntaxWarning: \"is\" with a literal. Did you mean \"==\"?\n",
      "  elif repo_code is 'wfc_tools':\n",
      "/Users/pfleming/Projects/ghstats/notebooks/../database.py:92: SyntaxWarning: \"is\" with a literal. Did you mean \"==\"?\n",
      "  if (repo_code is None) or (repo_code is'wisdem_floris'):\n",
      "/Users/pfleming/Projects/ghstats/notebooks/../database.py:94: SyntaxWarning: \"is\" with a literal. Did you mean \"==\"?\n",
      "  elif repo_code is 'nrel_floris':\n",
      "/Users/pfleming/Projects/ghstats/notebooks/../database.py:96: SyntaxWarning: \"is\" with a literal. Did you mean \"==\"?\n",
      "  elif repo_code is 'wfc_tools':\n",
      "/Users/pfleming/Projects/ghstats/notebooks/../database.py:42: SyntaxWarning: \"is\" with a literal. Did you mean \"==\"?\n",
      "  if (repo_code is None) or (repo_code is'wisdem_floris'):\n",
      "/Users/pfleming/Projects/ghstats/notebooks/../database.py:44: SyntaxWarning: \"is\" with a literal. Did you mean \"==\"?\n",
      "  elif repo_code is 'nrel_floris':\n",
      "/Users/pfleming/Projects/ghstats/notebooks/../database.py:46: SyntaxWarning: \"is\" with a literal. Did you mean \"==\"?\n",
      "  elif repo_code is 'wfc_tools':\n",
      "/Users/pfleming/Projects/ghstats/notebooks/../database.py:67: SyntaxWarning: \"is\" with a literal. Did you mean \"==\"?\n",
      "  if (repo_code is None) or (repo_code is'wisdem_floris'):\n",
      "/Users/pfleming/Projects/ghstats/notebooks/../database.py:69: SyntaxWarning: \"is\" with a literal. Did you mean \"==\"?\n",
      "  elif repo_code is 'nrel_floris':\n",
      "/Users/pfleming/Projects/ghstats/notebooks/../database.py:71: SyntaxWarning: \"is\" with a literal. Did you mean \"==\"?\n",
      "  elif repo_code is 'wfc_tools':\n",
      "/Users/pfleming/Projects/ghstats/notebooks/../database.py:92: SyntaxWarning: \"is\" with a literal. Did you mean \"==\"?\n",
      "  if (repo_code is None) or (repo_code is'wisdem_floris'):\n",
      "/Users/pfleming/Projects/ghstats/notebooks/../database.py:94: SyntaxWarning: \"is\" with a literal. Did you mean \"==\"?\n",
      "  elif repo_code is 'nrel_floris':\n",
      "/Users/pfleming/Projects/ghstats/notebooks/../database.py:96: SyntaxWarning: \"is\" with a literal. Did you mean \"==\"?\n",
      "  elif repo_code is 'wfc_tools':\n"
     ]
    },
    {
     "ename": "NoSuchModuleError",
     "evalue": "Can't load plugin: sqlalchemy.dialects:postgres",
     "output_type": "error",
     "traceback": [
      "\u001b[0;31m---------------------------------------------------------------------------\u001b[0m",
      "\u001b[0;31mNoSuchModuleError\u001b[0m                         Traceback (most recent call last)",
      "Input \u001b[0;32mIn [3]\u001b[0m, in \u001b[0;36m<cell line: 3>\u001b[0;34m()\u001b[0m\n\u001b[1;32m      1\u001b[0m \u001b[38;5;66;03m# connect to the database\u001b[39;00m\n\u001b[0;32m----> 3\u001b[0m db \u001b[38;5;241m=\u001b[39m \u001b[43mdbc\u001b[49m\u001b[38;5;241;43m.\u001b[39;49m\u001b[43mDatabase\u001b[49m\u001b[43m(\u001b[49m\u001b[43m)\u001b[49m\n",
      "File \u001b[0;32m~/Projects/ghstats/notebooks/../database.py:32\u001b[0m, in \u001b[0;36mDatabase.__init__\u001b[0;34m(self)\u001b[0m\n\u001b[1;32m     29\u001b[0m     \u001b[38;5;28;01mwith\u001b[39;00m \u001b[38;5;28mopen\u001b[39m(\u001b[38;5;124m\"\u001b[39m\u001b[38;5;124m../\u001b[39m\u001b[38;5;124m\"\u001b[39m \u001b[38;5;241m+\u001b[39m fname) \u001b[38;5;28;01mas\u001b[39;00m f:\n\u001b[1;32m     30\u001b[0m         auth \u001b[38;5;241m=\u001b[39m json\u001b[38;5;241m.\u001b[39mload(f)\n\u001b[0;32m---> 32\u001b[0m \u001b[38;5;28mself\u001b[39m\u001b[38;5;241m.\u001b[39mengine \u001b[38;5;241m=\u001b[39m \u001b[43mmod\u001b[49m\u001b[38;5;241;43m.\u001b[39;49m\u001b[43mdb_connect\u001b[49m\u001b[43m(\u001b[49m\u001b[43mauth\u001b[49m\u001b[43m[\u001b[49m\u001b[38;5;124;43m\"\u001b[39;49m\u001b[38;5;124;43mdatabase\u001b[39;49m\u001b[38;5;124;43m\"\u001b[39;49m\u001b[43m]\u001b[49m\u001b[43m)\u001b[49m\n\u001b[1;32m     33\u001b[0m mod\u001b[38;5;241m.\u001b[39mcreate_tables(\u001b[38;5;28mself\u001b[39m\u001b[38;5;241m.\u001b[39mengine)\n\u001b[1;32m     34\u001b[0m Session \u001b[38;5;241m=\u001b[39m sessionmaker(bind\u001b[38;5;241m=\u001b[39m\u001b[38;5;28mself\u001b[39m\u001b[38;5;241m.\u001b[39mengine)\n",
      "File \u001b[0;32m~/Projects/ghstats/notebooks/../models.py:21\u001b[0m, in \u001b[0;36mdb_connect\u001b[0;34m(db_settings)\u001b[0m\n\u001b[1;32m     17\u001b[0m url \u001b[38;5;241m=\u001b[39m db_settings[\u001b[38;5;124m\"\u001b[39m\u001b[38;5;124mdrivername\u001b[39m\u001b[38;5;124m\"\u001b[39m] \u001b[38;5;241m+\u001b[39m \u001b[38;5;124m'\u001b[39m\u001b[38;5;124m://\u001b[39m\u001b[38;5;124m'\u001b[39m \u001b[38;5;241m+\u001b[39m db_settings[\u001b[38;5;124m\"\u001b[39m\u001b[38;5;124musername\u001b[39m\u001b[38;5;124m\"\u001b[39m] \u001b[38;5;241m+\u001b[39m \u001b[38;5;124m'\u001b[39m\u001b[38;5;124m:\u001b[39m\u001b[38;5;124m'\u001b[39m \u001b[38;5;241m+\u001b[39m db_settings[\u001b[38;5;124m\"\u001b[39m\u001b[38;5;124mpassword\u001b[39m\u001b[38;5;124m\"\u001b[39m] \u001b[38;5;241m+\u001b[39m \u001b[38;5;124m\"\u001b[39m\u001b[38;5;124m@\u001b[39m\u001b[38;5;124m\"\u001b[39m \u001b[38;5;241m+\u001b[39m db_settings[\u001b[38;5;124m\"\u001b[39m\u001b[38;5;124mhost\u001b[39m\u001b[38;5;124m\"\u001b[39m] \u001b[38;5;241m+\u001b[39m \u001b[38;5;124m\"\u001b[39m\u001b[38;5;124m:\u001b[39m\u001b[38;5;124m\"\u001b[39m \u001b[38;5;241m+\u001b[39m db_settings[\u001b[38;5;124m\"\u001b[39m\u001b[38;5;124mport\u001b[39m\u001b[38;5;124m\"\u001b[39m] \u001b[38;5;241m+\u001b[39m \u001b[38;5;124m'\u001b[39m\u001b[38;5;124m/\u001b[39m\u001b[38;5;124m'\u001b[39m \u001b[38;5;241m+\u001b[39m db_settings[\u001b[38;5;124m\"\u001b[39m\u001b[38;5;124mdatabase\u001b[39m\u001b[38;5;124m\"\u001b[39m]\n\u001b[1;32m     18\u001b[0m \u001b[38;5;66;03m# for debug:\u001b[39;00m\n\u001b[1;32m     19\u001b[0m \u001b[38;5;66;03m# print(\"URL\")\u001b[39;00m\n\u001b[1;32m     20\u001b[0m \u001b[38;5;66;03m# print(url)\u001b[39;00m\n\u001b[0;32m---> 21\u001b[0m \u001b[38;5;28;01mreturn\u001b[39;00m \u001b[43mcreate_engine\u001b[49m\u001b[43m(\u001b[49m\u001b[43murl\u001b[49m\u001b[43m,\u001b[49m\u001b[43m \u001b[49m\u001b[43mpool_timeout\u001b[49m\u001b[38;5;241;43m=\u001b[39;49m\u001b[38;5;241;43m60\u001b[39;49m\u001b[38;5;241;43m*\u001b[39;49m\u001b[38;5;241;43m60\u001b[39;49m\u001b[38;5;241;43m*\u001b[39;49m\u001b[38;5;241;43m24\u001b[39;49m\u001b[43m)\u001b[49m\n",
      "File \u001b[0;32m<string>:2\u001b[0m, in \u001b[0;36mcreate_engine\u001b[0;34m(url, **kwargs)\u001b[0m\n",
      "File \u001b[0;32m~/opt/anaconda3/lib/python3.9/site-packages/sqlalchemy/util/deprecations.py:281\u001b[0m, in \u001b[0;36mdeprecated_params.<locals>.decorate.<locals>.warned\u001b[0;34m(fn, *args, **kwargs)\u001b[0m\n\u001b[1;32m    274\u001b[0m     \u001b[38;5;28;01mif\u001b[39;00m m \u001b[38;5;129;01min\u001b[39;00m kwargs:\n\u001b[1;32m    275\u001b[0m         _warn_with_version(\n\u001b[1;32m    276\u001b[0m             messages[m],\n\u001b[1;32m    277\u001b[0m             versions[m],\n\u001b[1;32m    278\u001b[0m             version_warnings[m],\n\u001b[1;32m    279\u001b[0m             stacklevel\u001b[38;5;241m=\u001b[39m\u001b[38;5;241m3\u001b[39m,\n\u001b[1;32m    280\u001b[0m         )\n\u001b[0;32m--> 281\u001b[0m \u001b[38;5;28;01mreturn\u001b[39;00m \u001b[43mfn\u001b[49m\u001b[43m(\u001b[49m\u001b[38;5;241;43m*\u001b[39;49m\u001b[43margs\u001b[49m\u001b[43m,\u001b[49m\u001b[43m \u001b[49m\u001b[38;5;241;43m*\u001b[39;49m\u001b[38;5;241;43m*\u001b[39;49m\u001b[43mkwargs\u001b[49m\u001b[43m)\u001b[49m\n",
      "File \u001b[0;32m~/opt/anaconda3/lib/python3.9/site-packages/sqlalchemy/engine/create.py:552\u001b[0m, in \u001b[0;36mcreate_engine\u001b[0;34m(url, **kwargs)\u001b[0m\n\u001b[1;32m    548\u001b[0m u \u001b[38;5;241m=\u001b[39m _url\u001b[38;5;241m.\u001b[39mmake_url(url)\n\u001b[1;32m    550\u001b[0m u, plugins, kwargs \u001b[38;5;241m=\u001b[39m u\u001b[38;5;241m.\u001b[39m_instantiate_plugins(kwargs)\n\u001b[0;32m--> 552\u001b[0m entrypoint \u001b[38;5;241m=\u001b[39m \u001b[43mu\u001b[49m\u001b[38;5;241;43m.\u001b[39;49m\u001b[43m_get_entrypoint\u001b[49m\u001b[43m(\u001b[49m\u001b[43m)\u001b[49m\n\u001b[1;32m    553\u001b[0m _is_async \u001b[38;5;241m=\u001b[39m kwargs\u001b[38;5;241m.\u001b[39mpop(\u001b[38;5;124m\"\u001b[39m\u001b[38;5;124m_is_async\u001b[39m\u001b[38;5;124m\"\u001b[39m, \u001b[38;5;28;01mFalse\u001b[39;00m)\n\u001b[1;32m    554\u001b[0m \u001b[38;5;28;01mif\u001b[39;00m _is_async:\n",
      "File \u001b[0;32m~/opt/anaconda3/lib/python3.9/site-packages/sqlalchemy/engine/url.py:755\u001b[0m, in \u001b[0;36mURL._get_entrypoint\u001b[0;34m(self)\u001b[0m\n\u001b[1;32m    753\u001b[0m \u001b[38;5;28;01melse\u001b[39;00m:\n\u001b[1;32m    754\u001b[0m     name \u001b[38;5;241m=\u001b[39m \u001b[38;5;28mself\u001b[39m\u001b[38;5;241m.\u001b[39mdrivername\u001b[38;5;241m.\u001b[39mreplace(\u001b[38;5;124m\"\u001b[39m\u001b[38;5;124m+\u001b[39m\u001b[38;5;124m\"\u001b[39m, \u001b[38;5;124m\"\u001b[39m\u001b[38;5;124m.\u001b[39m\u001b[38;5;124m\"\u001b[39m)\n\u001b[0;32m--> 755\u001b[0m \u001b[38;5;28mcls\u001b[39m \u001b[38;5;241m=\u001b[39m \u001b[43mregistry\u001b[49m\u001b[38;5;241;43m.\u001b[39;49m\u001b[43mload\u001b[49m\u001b[43m(\u001b[49m\u001b[43mname\u001b[49m\u001b[43m)\u001b[49m\n\u001b[1;32m    756\u001b[0m \u001b[38;5;66;03m# check for legacy dialects that\u001b[39;00m\n\u001b[1;32m    757\u001b[0m \u001b[38;5;66;03m# would return a module with 'dialect' as the\u001b[39;00m\n\u001b[1;32m    758\u001b[0m \u001b[38;5;66;03m# actual class\u001b[39;00m\n\u001b[1;32m    759\u001b[0m \u001b[38;5;28;01mif\u001b[39;00m (\n\u001b[1;32m    760\u001b[0m     \u001b[38;5;28mhasattr\u001b[39m(\u001b[38;5;28mcls\u001b[39m, \u001b[38;5;124m\"\u001b[39m\u001b[38;5;124mdialect\u001b[39m\u001b[38;5;124m\"\u001b[39m)\n\u001b[1;32m    761\u001b[0m     \u001b[38;5;129;01mand\u001b[39;00m \u001b[38;5;28misinstance\u001b[39m(\u001b[38;5;28mcls\u001b[39m\u001b[38;5;241m.\u001b[39mdialect, \u001b[38;5;28mtype\u001b[39m)\n\u001b[1;32m    762\u001b[0m     \u001b[38;5;129;01mand\u001b[39;00m \u001b[38;5;28missubclass\u001b[39m(\u001b[38;5;28mcls\u001b[39m\u001b[38;5;241m.\u001b[39mdialect, Dialect)\n\u001b[1;32m    763\u001b[0m ):\n",
      "File \u001b[0;32m~/opt/anaconda3/lib/python3.9/site-packages/sqlalchemy/util/langhelpers.py:374\u001b[0m, in \u001b[0;36mPluginLoader.load\u001b[0;34m(self, name)\u001b[0m\n\u001b[1;32m    371\u001b[0m         \u001b[38;5;28mself\u001b[39m\u001b[38;5;241m.\u001b[39mimpls[name] \u001b[38;5;241m=\u001b[39m impl\u001b[38;5;241m.\u001b[39mload\n\u001b[1;32m    372\u001b[0m         \u001b[38;5;28;01mreturn\u001b[39;00m impl\u001b[38;5;241m.\u001b[39mload()\n\u001b[0;32m--> 374\u001b[0m \u001b[38;5;28;01mraise\u001b[39;00m exc\u001b[38;5;241m.\u001b[39mNoSuchModuleError(\n\u001b[1;32m    375\u001b[0m     \u001b[38;5;124m\"\u001b[39m\u001b[38;5;124mCan\u001b[39m\u001b[38;5;124m'\u001b[39m\u001b[38;5;124mt load plugin: \u001b[39m\u001b[38;5;132;01m%s\u001b[39;00m\u001b[38;5;124m:\u001b[39m\u001b[38;5;132;01m%s\u001b[39;00m\u001b[38;5;124m\"\u001b[39m \u001b[38;5;241m%\u001b[39m (\u001b[38;5;28mself\u001b[39m\u001b[38;5;241m.\u001b[39mgroup, name)\n\u001b[1;32m    376\u001b[0m )\n",
      "\u001b[0;31mNoSuchModuleError\u001b[0m: Can't load plugin: sqlalchemy.dialects:postgres"
     ]
    }
   ],
   "source": [
    "# connect to the database\n",
    "\n",
    "db = dbc.Database()"
   ]
  },
  {
   "cell_type": "code",
   "execution_count": null,
   "metadata": {},
   "outputs": [],
   "source": [
    "# retrieve data in the following range\n",
    "# timestamps in format YYYY-MM-DD\n",
    "from_date = '2018-01-01'\n",
    "to_date = datetime.datetime.today().strftime('%Y-%m-%d') # set to today\n"
   ]
  },
  {
   "cell_type": "code",
   "execution_count": null,
   "metadata": {},
   "outputs": [],
   "source": [
    "print(\"FROM DATE: \" + from_date)\n",
    "print(\"TO DATE: \" + to_date)"
   ]
  },
  {
   "cell_type": "code",
   "execution_count": null,
   "metadata": {},
   "outputs": [],
   "source": [
    "results_wisdem = db.getResults(from_date, to_date, repo_code='wisdem_floris')\n",
    "results_nrel_floris = db.getResults(from_date, to_date, repo_code='nrel_floris')\n",
    "results_wfc_tools = db.getResults(from_date, to_date, repo_code='wfc_tools')"
   ]
  },
  {
   "cell_type": "code",
   "execution_count": null,
   "metadata": {},
   "outputs": [],
   "source": [
    "# Mix together\n",
    "df_1 = pd.DataFrame(results_wisdem)\n",
    "df_1['repo'] = 'floris_wisdem'\n",
    "df_2 = pd.DataFrame(results_nrel_floris)\n",
    "df_2['repo'] = 'floris_nrel'\n",
    "df_3 = pd.DataFrame(results_wfc_tools)\n",
    "df_3['repo'] = 'wfc_tools'\n",
    "\n",
    "df = df_1.append(df_2).append(df_3)\n",
    "df['timestamp'] = pd.to_datetime(df.timestamp)"
   ]
  },
  {
   "cell_type": "code",
   "execution_count": null,
   "metadata": {},
   "outputs": [],
   "source": [
    "# Mix together with 1 week resampling\n",
    "df_1 = pd.DataFrame(results_wisdem)\n",
    "df_1['timestamp'] = pd.to_datetime(df_1.timestamp)\n",
    "df_1 = df_1.resample('7D', on='timestamp').sum().reset_index()\n",
    "df_1['repo'] = 'floris_wisdem'\n",
    "\n",
    "df_2 = pd.DataFrame(results_nrel_floris)\n",
    "df_2['timestamp'] = pd.to_datetime(df_2.timestamp)\n",
    "df_2 = df_2.resample('7D', on='timestamp').sum().reset_index()\n",
    "df_2['repo'] = 'floris_nrel'\n",
    "\n",
    "df_3 = pd.DataFrame(results_wfc_tools)\n",
    "df_3['timestamp'] = pd.to_datetime(df_3.timestamp)\n",
    "df_3 = df_3.resample('7D', on='timestamp').sum().reset_index()\n",
    "df_3['repo'] = 'wfc_tools'\n",
    "\n",
    "df = df_1.append(df_2).append(df_3)\n",
    "df['timestamp'] = pd.to_datetime(df.timestamp)"
   ]
  },
  {
   "cell_type": "code",
   "execution_count": null,
   "metadata": {},
   "outputs": [],
   "source": [
    "# Melt the data for dope plotting\n",
    "df_melt = pd.melt(df,id_vars=['repo','timestamp'])\n",
    "df_melt = df_melt.sort_values(['timestamp'])\n",
    "df_melt.head()"
   ]
  },
  {
   "cell_type": "code",
   "execution_count": null,
   "metadata": {},
   "outputs": [],
   "source": [
    "# Dope plots\n",
    "g = sns.FacetGrid(df_melt,col='variable',col_wrap=2,hue='repo',size=4,sharey=False,aspect=2)\n",
    "g.map(plt.plot,'timestamp','value')\n",
    "g.add_legend()\n",
    "g.set_xticklabels(rotation=45)"
   ]
  },
  {
   "cell_type": "code",
   "execution_count": null,
   "metadata": {},
   "outputs": [],
   "source": [
    "# Weekly resample\n",
    "df_melt_2 = df_melt.set_index(['repo','variable'])\n",
    "df_melt_2 = df_melt_2.resample('7D',on='timestamp').mean()\n",
    "\n",
    "\n",
    "df_melt_2"
   ]
  },
  {
   "cell_type": "code",
   "execution_count": null,
   "metadata": {},
   "outputs": [],
   "source": [
    "# Reformulate as rolling\n",
    "# Mix together\n",
    "df_1 = pd.DataFrame(results_wisdem).fillna(0).sort_values(['timestamp'])\n",
    "df_1 = df_1.set_index('timestamp').cumsum().reset_index()\n",
    "df_1['repo'] = 'floris_wisdem'\n",
    "df_2 = pd.DataFrame(results_nrel_floris).fillna(0).sort_values(['timestamp'])\n",
    "df_2 = df_2.set_index('timestamp').cumsum().reset_index()\n",
    "df_2['repo'] = 'floris_nrel'\n",
    "df_3 = pd.DataFrame(results_wfc_tools).fillna(0).sort_values(['timestamp'])\n",
    "df_3 = df_3.set_index('timestamp').cumsum().reset_index()\n",
    "df_3['repo'] = 'wfc_tools'\n",
    "\n",
    "df = df_1.append(df_2).append(df_3)\n",
    "df['timestamp'] = pd.to_datetime(df.timestamp)"
   ]
  },
  {
   "cell_type": "code",
   "execution_count": null,
   "metadata": {},
   "outputs": [],
   "source": [
    "# Melt the data for dope plotting\n",
    "df_melt = pd.melt(df,id_vars=['repo','timestamp'])\n",
    "df_melt = df_melt.sort_values(['timestamp'])"
   ]
  },
  {
   "cell_type": "code",
   "execution_count": null,
   "metadata": {},
   "outputs": [],
   "source": [
    "# Dope plots\n",
    "df_melt['timestamp'] = pd.to_datetime(df_melt.timestamp)\n",
    "g = sns.FacetGrid(df_melt,row='variable',hue='repo',size=2,sharey=False,aspect=4)\n",
    "g.map(plt.semilogy,'timestamp','value')\n",
    "g.add_legend()\n",
    "g.set_xticklabels(rotation=30)"
   ]
  },
  {
   "cell_type": "code",
   "execution_count": null,
   "metadata": {},
   "outputs": [],
   "source": [
    "# Just FLORIS\n",
    "# Dope plots\n",
    "df_melt['timestamp'] = pd.to_datetime(df_melt.timestamp)\n",
    "df_melt_sub = df_melt[df_melt.repo=='floris_nrel']\n",
    "g = sns.FacetGrid(df_melt_sub,col='variable',size=2,sharey=False,aspect=4,col_wrap=2)\n",
    "g.map(plt.plot,'timestamp','value')\n",
    "# g.add_legend()\n",
    "g.set_xticklabels(rotation=30)"
   ]
  },
  {
   "cell_type": "code",
   "execution_count": null,
   "metadata": {},
   "outputs": [],
   "source": []
  },
  {
   "cell_type": "code",
   "execution_count": null,
   "metadata": {},
   "outputs": [],
   "source": [
    "df_sub = df_melt[df_melt.repo=='floris_nrel']\n",
    "df_sub = df_sub[df_sub.variable.isin(['clones_total','clones_uniques'])]\n",
    "df_sub"
   ]
  },
  {
   "cell_type": "code",
   "execution_count": null,
   "metadata": {},
   "outputs": [],
   "source": [
    "# Dope plots\n",
    "df_melt['timestamp'] = pd.to_datetime(df_melt.timestamp)\n",
    "df_sub = df_melt[df_melt.repo=='floris_nrel']\n",
    "df_sub = df_sub[df_sub.variable.isin(['clones_total','clones_uniques'])]\n",
    "g = sns.FacetGrid(df_sub,row='variable',hue='repo',size=2,sharey=False,aspect=4)\n",
    "g.map(plt.plot,'timestamp','value')\n",
    "for ax in g.axes.flatten():\n",
    "    ax.grid(True)\n",
    "# g.add_legend()\n",
    "# g.set_xticklabels(rotation=30)"
   ]
  },
  {
   "cell_type": "markdown",
   "metadata": {},
   "source": [
    "## TOTAL COUNTS"
   ]
  },
  {
   "cell_type": "code",
   "execution_count": null,
   "metadata": {},
   "outputs": [],
   "source": [
    "# Get total counts for all time recorded\n",
    "totals = db.getTotals()\n",
    "print(totals)"
   ]
  },
  {
   "cell_type": "code",
   "execution_count": null,
   "metadata": {},
   "outputs": [],
   "source": [
    "totals"
   ]
  },
  {
   "cell_type": "code",
   "execution_count": null,
   "metadata": {},
   "outputs": [],
   "source": []
  }
 ],
 "metadata": {
  "kernelspec": {
   "display_name": "Python 3 (ipykernel)",
   "language": "python",
   "name": "python3"
  },
  "language_info": {
   "codemirror_mode": {
    "name": "ipython",
    "version": 3
   },
   "file_extension": ".py",
   "mimetype": "text/x-python",
   "name": "python",
   "nbconvert_exporter": "python",
   "pygments_lexer": "ipython3",
   "version": "3.9.12"
  }
 },
 "nbformat": 4,
 "nbformat_minor": 2
}
